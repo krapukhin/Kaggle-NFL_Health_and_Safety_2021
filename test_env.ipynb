{
 "cells": [
  {
   "cell_type": "code",
   "execution_count": 3,
   "source": [
    "print('test')\n",
    "print('hell')\n",
    "print('third')"
   ],
   "outputs": [
    {
     "output_type": "stream",
     "name": "stdout",
     "text": [
      "test\n",
      "hell\n",
      "third\n"
     ]
    }
   ],
   "metadata": {}
  },
  {
   "cell_type": "code",
   "execution_count": null,
   "source": [],
   "outputs": [],
   "metadata": {}
  }
 ],
 "metadata": {
  "orig_nbformat": 4,
  "language_info": {
   "name": "python",
   "version": "3.7.11",
   "mimetype": "text/x-python",
   "codemirror_mode": {
    "name": "ipython",
    "version": 3
   },
   "pygments_lexer": "ipython3",
   "nbconvert_exporter": "python",
   "file_extension": ".py"
  },
  "kernelspec": {
   "name": "python3",
   "display_name": "Python 3.7.11 64-bit ('Py37': conda)"
  },
  "interpreter": {
   "hash": "006033251bce7f9ca52fd59f9d14149a21f35439af3ab297784bc361980d4c46"
  }
 },
 "nbformat": 4,
 "nbformat_minor": 2
}