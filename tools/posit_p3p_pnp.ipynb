{
 "cells": [
  {
   "cell_type": "code",
   "execution_count": 2,
   "metadata": {},
   "outputs": [],
   "source": [
    "import cv2\n",
    "import numpy as np\n",
    "import matplotlib.pyplot as plt\n",
    "\n",
    "\n",
    "def modern_posit(image_pts, world_pts, focal_length, center):\n",
    "    \"\"\"Finds the optimal matrix of rotation and transformation, based on 2D and 3D coordinates\n",
    "\n",
    "    Args:\n",
    "        image_pts ([type]): [description]\n",
    "        world_pts ([type]): [description]\n",
    "        focal_length ([type]): [description]\n",
    "        center ([type]): [description]\n",
    "\n",
    "    Returns:\n",
    "        rot (np.array), trans (np.array), count(int): [description]\n",
    "    \"\"\"\n",
    "    nb_points = np.shape(image_pts)[0]\n",
    "\n",
    "    # centered & scaled pixel coordinates\n",
    "    centered_image = np.divide(np.subtract(image_pts, center), focal_length)\n",
    "    ui = centered_image[:, 0]\n",
    "    vi = centered_image[:, 1]\n",
    "\n",
    "    # homogeneous world coordinates\n",
    "    homogeneous_world_pts = np.append(world_pts, np.ones((nb_points, 1)), 1)\n",
    "\n",
    "    # pseudo inverse\n",
    "    object_mat = np.linalg.pinv(homogeneous_world_pts)\n",
    "    # print(object_mat)\n",
    "\n",
    "    converged = 0\n",
    "    count = 0\n",
    "    t_x = 0.0\n",
    "    t_y = 0.0\n",
    "    t_z = 0.0\n",
    "    r1 = 0.0\n",
    "    r2 = 0.0\n",
    "    r3 = 0.0\n",
    "    while converged == 0:\n",
    "        # POS part of the algorithm\n",
    "        # rotation vectors\n",
    "        r1_t = np.matmul(object_mat, ui)\n",
    "        r2_t = np.matmul(object_mat, vi)\n",
    "        # 1/t_z1 is norm of r1_t\n",
    "        t_z1 = 1 / np.linalg.norm(r1_t[0:3])\n",
    "        # 1/tz_2 is norm of r2_t\n",
    "        t_z2 = 1 / np.linalg.norm(r2_t[0:3])\n",
    "\n",
    "        # geometric average\n",
    "        t_z = np.sqrt(t_z1 * t_z2)\n",
    "\n",
    "        r1_n = np.multiply(r1_t, t_z)\n",
    "        r2_n = np.multiply(r2_t, t_z)\n",
    "        r1 = r1_n[0:3]\n",
    "        r2 = r2_n[0:3]\n",
    "        r3 = np.cross(r1, r2)\n",
    "        r3_t = np.append(r3, t_z)\n",
    "        t_x = r1_n[3]\n",
    "        t_y = r2_n[3]\n",
    "\n",
    "        # Now update the z/T z or epsilon\n",
    "        # then ui, vi\n",
    "        epsilon_i = np.matmul(homogeneous_world_pts, np.divide(r3_t, t_z))\n",
    "        old_ui = ui\n",
    "        old_vi = vi\n",
    "        ui = np.multiply(epsilon_i, centered_image[:, 0])\n",
    "        vi = np.multiply(epsilon_i, centered_image[:, 1])\n",
    "\n",
    "        # check for convergence\n",
    "        delta_ui = ui - old_ui\n",
    "        delta_vi = vi - old_vi\n",
    "        delta = np.square(focal_length) * (\n",
    "            np.square(np.linalg.norm(delta_ui)) + np.square(np.linalg.norm(delta_vi))\n",
    "        )\n",
    "\n",
    "        converged = 1 if count > 0 and delta < 1 else 0\n",
    "        count = count + 1\n",
    "        if count > 1000:\n",
    "            break\n",
    "\n",
    "    trans = np.array([t_x, t_y, t_z], np.float64)\n",
    "    rot = np.array([r1, r2, r3], np.float64)\n",
    "\n",
    "    return rot, trans, count\n",
    "\n",
    "\n",
    "def check_rotation_matrix(points_2d, points_3d, intrin, rot, trans):\n",
    "    rottrans = np.append(rot, trans.reshape(3, 1), axis=1)  # объединяем их в одну (3,4)\n",
    "    print(rottrans)\n",
    "    full_matrix = np.matmul(intrin, rottrans)\n",
    "    projected_points_2d = np.matmul(\n",
    "        full_matrix,\n",
    "        np.transpose(np.append(points_3d, np.ones((points_3d.shape[0], 1)), axis=1)),\n",
    "    )\n",
    "    projected_points_2d_t = np.transpose(projected_points_2d)  # транспонируем (6,3)\n",
    "    # Происходит магия, на выходе (6,3)\n",
    "    projected_points_2d_homogen = projected_points_2d_t / projected_points_2d[\n",
    "        2\n",
    "    ].reshape(points_3d.shape[0], 1)\n",
    "    print(\n",
    "        f\"Error of rotation: {np.linalg.norm(points_2d - projected_points_2d_homogen[:,0:2])}\"\n",
    "    )\n",
    "    plt.scatter(points_2d[:, 0], points_2d[:, 1], color=\"g\", s=500, alpha=0.5)\n",
    "    plt.scatter(\n",
    "        projected_points_2d_homogen[:, 0],\n",
    "        projected_points_2d_homogen[:, 1],\n",
    "        color=\"blue\",\n",
    "        marker=\"x\",\n",
    "    )\n",
    "    return plt.show()\n",
    "\n",
    "\n",
    "points_2d = np.array(\n",
    "    [\n",
    "        [180.0, 453.0],\n",
    "        [980.0, 326.0],\n",
    "        #    [505., 354.],\n",
    "        #    [649., 238.],\n",
    "        #    [692., 351.],\n",
    "        [547.0, 411.0],\n",
    "    ]\n",
    ")\n",
    "\n",
    "points_3d = np.array(\n",
    "    [\n",
    "        [30.46, 26.75, 0.0],\n",
    "        [54.31, 23.5, 0.0],\n",
    "        #    [40.55, 22.81,  0.  ],\n",
    "        #    [42.05, 34.3 ,  0.  ],\n",
    "        #    [45.49, 24.78,  0.  ],\n",
    "        [42.98, 15.25, 0.0],\n",
    "    ]\n",
    ")\n"
   ]
  },
  {
   "cell_type": "markdown",
   "metadata": {},
   "source": [
    "# Posit"
   ]
  },
  {
   "cell_type": "code",
   "execution_count": 45,
   "metadata": {},
   "outputs": [
    {
     "name": "stdout",
     "output_type": "stream",
     "text": [
      "[[  0.64289272  -0.66970755   0.         -21.55280388]\n",
      " [  0.77336407  -0.7498294    0.         -27.22073712]\n",
      " [  0.           0.           0.0358679    0.91921811]]\n",
      "Error of rotation: 2.973823638970582e-11\n"
     ]
    },
    {
     "data": {
      "image/png": "[encoded data removed]",
      "text/plain": [
       "<Figure size 432x288 with 1 Axes>"
      ]
     },
     "metadata": {
      "needs_background": "light"
     },
     "output_type": "display_data"
    }
   ],
   "source": [
    "# Posit\n",
    "intrin = np.array(\n",
    "    [\n",
    "        [1920, 0, 640],\n",
    "        [0, 1920, 360],\n",
    "        [0, 0, 1],\n",
    "    ],\n",
    "    dtype=np.float32,\n",
    ")\n",
    "rot, trans, _ = modern_posit(points_2d, points_3d, 1920, [640, 360])\n",
    "\n",
    "check_rotation_matrix(points_2d, points_3d, intrin, rot, trans)\n"
   ]
  },
  {
   "cell_type": "markdown",
   "metadata": {},
   "source": [
    "# pNp"
   ]
  },
  {
   "cell_type": "code",
   "execution_count": 211,
   "id": "0ec0f577",
   "metadata": {
    "execution": {
     "iopub.execute_input": "2021-10-15T20:45:34.771652Z",
     "iopub.status.busy": "2021-10-15T20:45:34.770918Z",
     "iopub.status.idle": "2021-10-15T20:45:35.119711Z",
     "shell.execute_reply": "2021-10-15T20:45:35.119157Z",
     "shell.execute_reply.started": "2021-10-15T18:15:23.040226Z"
    },
    "papermill": {
     "duration": 0.387723,
     "end_time": "2021-10-15T20:45:35.119874",
     "exception": false,
     "start_time": "2021-10-15T20:45:34.732151",
     "status": "completed"
    },
    "tags": []
   },
   "outputs": [
    {
     "ename": "error",
     "evalue": "OpenCV(4.5.2) /private/var/folders/24/8k48jl6d249_n_qfxwsl6xvm0000gn/T/pip-req-build-0kq15xu_/opencv/modules/calib3d/src/solvepnp.cpp:835: error: (-215:Assertion failed) !_rvec.empty() && !_tvec.empty() in function 'solvePnPGeneric'\n",
     "output_type": "error",
     "traceback": [
      "\u001b[0;31m---------------------------------------------------------------------------\u001b[0m",
      "\u001b[0;31merror\u001b[0m                                     Traceback (most recent call last)",
      "\u001b[0;32m/var/folders/py/vv_60gys365b7j1vlcxd9mvr0000gn/T/ipykernel_74004/3070864443.py\u001b[0m in \u001b[0;36m<module>\u001b[0;34m\u001b[0m\n\u001b[1;32m      5\u001b[0m     \u001b[0mnp\u001b[0m\u001b[0;34m.\u001b[0m\u001b[0mzeros\u001b[0m\u001b[0;34m(\u001b[0m\u001b[0;34m(\u001b[0m\u001b[0;36m4\u001b[0m\u001b[0;34m,\u001b[0m\u001b[0;36m1\u001b[0m\u001b[0;34m)\u001b[0m\u001b[0;34m)\u001b[0m\u001b[0;34m,\u001b[0m\u001b[0;34m\u001b[0m\u001b[0;34m\u001b[0m\u001b[0m\n\u001b[1;32m      6\u001b[0m     \u001b[0mflags\u001b[0m\u001b[0;34m=\u001b[0m\u001b[0mcv2\u001b[0m\u001b[0;34m.\u001b[0m\u001b[0mSOLVEPNP_ITERATIVE\u001b[0m\u001b[0;34m,\u001b[0m\u001b[0;34m\u001b[0m\u001b[0;34m\u001b[0m\u001b[0m\n\u001b[0;32m----> 7\u001b[0;31m     \u001b[0museExtrinsicGuess\u001b[0m\u001b[0;34m=\u001b[0m\u001b[0;32mTrue\u001b[0m\u001b[0;34m,\u001b[0m\u001b[0;34m\u001b[0m\u001b[0;34m\u001b[0m\u001b[0m\n\u001b[0m\u001b[1;32m      8\u001b[0m )\n",
      "\u001b[0;31merror\u001b[0m: OpenCV(4.5.2) /private/var/folders/24/8k48jl6d249_n_qfxwsl6xvm0000gn/T/pip-req-build-0kq15xu_/opencv/modules/calib3d/src/solvepnp.cpp:835: error: (-215:Assertion failed) !_rvec.empty() && !_tvec.empty() in function 'solvePnPGeneric'\n"
     ]
    }
   ],
   "source": [
    "cv2.solvePnP(\n",
    "    points_3d,\n",
    "    points_2d,\n",
    "    intrin,\n",
    "    np.zeros((4, 1)),\n",
    "    flags=cv2.SOLVEPNP_ITERATIVE,\n",
    "    useExtrinsicGuess=True,\n",
    ")\n"
   ]
  },
  {
   "cell_type": "code",
   "execution_count": 174,
   "metadata": {},
   "outputs": [],
   "source": [
    "flags = [\n",
    "    cv2.SOLVEPNP_ITERATIVE,  # 0\n",
    "    cv2.SOLVEPNP_P3P,  # 2\n",
    "    cv2.SOLVEPNP_AP3P,  # 5\n",
    "    cv2.SOLVEPNP_EPNP,  # 1\n",
    "    cv2.SOLVEPNP_DLS,  # 3\n",
    "    cv2.SOLVEPNP_UPNP,  # 4\n",
    "    cv2.SOLVEPNP_IPPE,  # 6\n",
    "    cv2.SOLVEPNP_IPPE_SQUARE,  # 7\n",
    "    cv2.SOLVEPNP_SQPNP,  # 8\n",
    "]\n"
   ]
  },
  {
   "cell_type": "code",
   "execution_count": 175,
   "metadata": {},
   "outputs": [
    {
     "name": "stdout",
     "output_type": "stream",
     "text": [
      "0 works\n",
      "[[-9.42635133e-01 -2.83023088e-01  1.77022424e-01  4.79004975e+01]\n",
      " [ 1.52357957e-01  1.07085882e-01  9.82506828e-01 -9.46007502e+00]\n",
      " [-2.97028718e-01  9.53116229e-01 -5.78220947e-02 -6.39396014e+01]]\n",
      "Error of rotation: 48.22863982565711\n"
     ]
    },
    {
     "data": {
      "image/png": "[encoded data removed]",
      "text/plain": [
       "<Figure size 432x288 with 1 Axes>"
      ]
     },
     "metadata": {
      "needs_background": "light"
     },
     "output_type": "display_data"
    },
    {
     "name": "stdout",
     "output_type": "stream",
     "text": [
      "2 works\n",
      "[[ 9.95748626e-01  1.79252560e-02 -9.03513068e-02 -4.46318598e+01]\n",
      " [-8.59952941e-02  5.32393884e-01 -8.42117309e-01 -8.82770101e+00]\n",
      " [ 3.30073148e-02  8.46306940e-01  5.31671966e-01  3.40471120e+01]]\n",
      "Error of rotation: 227.95806390271466\n"
     ]
    },
    {
     "data": {
      "image/png": "[encoded data removed]",
      "text/plain": [
       "<Figure size 432x288 with 1 Axes>"
      ]
     },
     "metadata": {
      "needs_background": "light"
     },
     "output_type": "display_data"
    },
    {
     "name": "stdout",
     "output_type": "stream",
     "text": [
      "5 works\n",
      "[[ 9.95748626e-01  1.79252555e-02 -9.03513072e-02 -4.46318598e+01]\n",
      " [-8.59952942e-02  5.32393883e-01 -8.42117309e-01 -8.82770099e+00]\n",
      " [ 3.30073154e-02  8.46306941e-01  5.31671966e-01  3.40471119e+01]]\n",
      "Error of rotation: 227.95806366450728\n"
     ]
    },
    {
     "data": {
      "image/png": "[encoded data removed]",
      "text/plain": [
       "<Figure size 432x288 with 1 Axes>"
      ]
     },
     "metadata": {
      "needs_background": "light"
     },
     "output_type": "display_data"
    },
    {
     "name": "stdout",
     "output_type": "stream",
     "text": [
      "1 works\n",
      "[[ 4.20888676e-01 -5.41562760e-01 -7.27710450e-01  1.41925862e+34]\n",
      " [ 2.12507287e-01  8.38769635e-01 -5.01304451e-01 -2.64530134e+34]\n",
      " [ 8.81869251e-01  5.63495928e-02  4.68114674e-01  2.66989246e+34]]\n",
      "Error of rotation: 4484.92296416111\n"
     ]
    },
    {
     "data": {
      "image/png": "[encoded data removed]",
      "text/plain": [
       "<Figure size 432x288 with 1 Axes>"
      ]
     },
     "metadata": {
      "needs_background": "light"
     },
     "output_type": "display_data"
    },
    {
     "name": "stdout",
     "output_type": "stream",
     "text": [
      "3 works\n",
      "[[ 4.20888676e-01 -5.41562760e-01 -7.27710450e-01  1.41925862e+34]\n",
      " [ 2.12507287e-01  8.38769635e-01 -5.01304451e-01 -2.64530134e+34]\n",
      " [ 8.81869251e-01  5.63495928e-02  4.68114674e-01  2.66989246e+34]]\n",
      "Error of rotation: 4484.92296416111\n"
     ]
    },
    {
     "data": {
      "image/png": "[encoded data removed]",
      "text/plain": [
       "<Figure size 432x288 with 1 Axes>"
      ]
     },
     "metadata": {
      "needs_background": "light"
     },
     "output_type": "display_data"
    },
    {
     "name": "stdout",
     "output_type": "stream",
     "text": [
      "4 works\n",
      "[[ 4.20888676e-01 -5.41562760e-01 -7.27710450e-01  1.41925862e+34]\n",
      " [ 2.12507287e-01  8.38769635e-01 -5.01304451e-01 -2.64530134e+34]\n",
      " [ 8.81869251e-01  5.63495928e-02  4.68114674e-01  2.66989246e+34]]\n",
      "Error of rotation: 4484.92296416111\n"
     ]
    },
    {
     "data": {
      "image/png": "[encoded data removed]",
      "text/plain": [
       "<Figure size 432x288 with 1 Axes>"
      ]
     },
     "metadata": {
      "needs_background": "light"
     },
     "output_type": "display_data"
    },
    {
     "name": "stdout",
     "output_type": "stream",
     "text": [
      "6 works\n",
      "[[-4.98816186e-01 -7.55895332e-01  4.24033795e-01  3.77827010e+01]\n",
      " [ 2.49043953e-01  3.43607099e-01  9.05489520e-01 -1.82736244e+01]\n",
      " [-8.30156324e-01  5.57275881e-01  1.68543790e-02 -4.49815360e+00]]\n",
      "Error of rotation: 340.3520472132044\n"
     ]
    },
    {
     "data": {
      "image/png": "[encoded data removed]",
      "text/plain": [
       "<Figure size 432x288 with 1 Axes>"
      ]
     },
     "metadata": {
      "needs_background": "light"
     },
     "output_type": "display_data"
    },
    {
     "name": "stdout",
     "output_type": "stream",
     "text": [
      "7 works\n",
      "[[-9.71790970e-01 -9.95635939e-02 -2.13797573e-01  4.56974800e+01]\n",
      " [ 2.16966575e-01 -2.20428438e-02 -9.75930130e-01 -9.36593591e+00]\n",
      " [ 9.24544046e-02 -9.94787014e-01  4.30230085e-02 -3.37692894e+01]]\n",
      "Error of rotation: 72.84207895043778\n"
     ]
    },
    {
     "data": {
      "image/png": "[encoded data removed]",
      "text/plain": [
       "<Figure size 432x288 with 1 Axes>"
      ]
     },
     "metadata": {
      "needs_background": "light"
     },
     "output_type": "display_data"
    },
    {
     "name": "stdout",
     "output_type": "stream",
     "text": [
      "8 works\n",
      "[[ 9.85726536e-01  5.48611528e-02 -1.59164853e-01 -4.52845489e+01]\n",
      " [-1.56578405e-01 -4.86233716e-02 -9.86467927e-01  8.38716436e+00]\n",
      " [-6.18578995e-02  9.97309391e-01 -3.93392759e-02  3.29916679e+01]]\n",
      "Error of rotation: 47.88659578571005\n"
     ]
    },
    {
     "data": {
      "image/png": "[encoded data removed]",
      "text/plain": [
       "<Figure size 432x288 with 1 Axes>"
      ]
     },
     "metadata": {
      "needs_background": "light"
     },
     "output_type": "display_data"
    }
   ],
   "source": [
    "for flag in flags:\n",
    "    try:\n",
    "        intrin = np.array(\n",
    "            [\n",
    "                [1920, 0, 640],\n",
    "                [0, 1920, 360],\n",
    "                [0, 0, 1],\n",
    "            ],\n",
    "            dtype=np.float32,\n",
    "        )\n",
    "        dist_coeffs = np.zeros((4, 1), dtype=np.float32)\n",
    "        _, rotation_vector, trans = cv2.solvePnP(\n",
    "            points_3d, points_2d, intrin, distCoeffs=dist_coeffs, flags=flag\n",
    "        )\n",
    "        rot, _ = cv2.Rodrigues(rotation_vector)\n",
    "        print(f\"{flag} works\")\n",
    "        check_rotation_matrix(points_2d, points_3d, intrin, rot, trans)\n",
    "    except:\n",
    "        print(f\"!!!!!! {flag} has errors\")\n"
   ]
  },
  {
   "cell_type": "code",
   "execution_count": null,
   "metadata": {},
   "outputs": [],
   "source": [
    "# with errors:\n",
    "# cv2.SOLVEPNP_P3P, # 2\n",
    "# cv2.SOLVEPNP_AP3P, # 5\n",
    "# cv2.SOLVEPNP_IPPE_SQUARE, # 7\n"
   ]
  },
  {
   "cell_type": "markdown",
   "metadata": {},
   "source": [
    "# Ransac"
   ]
  },
  {
   "cell_type": "code",
   "execution_count": 47,
   "metadata": {},
   "outputs": [
    {
     "ename": "error",
     "evalue": "OpenCV(4.5.2) /private/var/folders/24/8k48jl6d249_n_qfxwsl6xvm0000gn/T/pip-req-build-0kq15xu_/opencv/modules/calib3d/src/solvepnp.cpp:241: error: (-215:Assertion failed) npoints >= 4 && npoints == std::max(ipoints.checkVector(2, CV_32F), ipoints.checkVector(2, CV_64F)) in function 'solvePnPRansac'\n",
     "output_type": "error",
     "traceback": [
      "\u001b[0;31m---------------------------------------------------------------------------\u001b[0m",
      "\u001b[0;31merror\u001b[0m                                     Traceback (most recent call last)",
      "\u001b[0;32m/var/folders/py/vv_60gys365b7j1vlcxd9mvr0000gn/T/ipykernel_64900/2748077435.py\u001b[0m in \u001b[0;36m<module>\u001b[0;34m\u001b[0m\n\u001b[1;32m      1\u001b[0m _, rotation_vector, trans, _ = cv2.solvePnPRansac(\n\u001b[0;32m----> 2\u001b[0;31m     \u001b[0mpoints_3d\u001b[0m\u001b[0;34m,\u001b[0m \u001b[0mpoints_2d\u001b[0m\u001b[0;34m,\u001b[0m \u001b[0mintrin\u001b[0m\u001b[0;34m,\u001b[0m \u001b[0mnp\u001b[0m\u001b[0;34m.\u001b[0m\u001b[0mzeros\u001b[0m\u001b[0;34m(\u001b[0m\u001b[0;34m(\u001b[0m\u001b[0;36m4\u001b[0m\u001b[0;34m,\u001b[0m \u001b[0;36m1\u001b[0m\u001b[0;34m)\u001b[0m\u001b[0;34m,\u001b[0m \u001b[0mdtype\u001b[0m\u001b[0;34m=\u001b[0m\u001b[0mnp\u001b[0m\u001b[0;34m.\u001b[0m\u001b[0mfloat32\u001b[0m\u001b[0;34m)\u001b[0m\u001b[0;34m\u001b[0m\u001b[0;34m\u001b[0m\u001b[0m\n\u001b[0m\u001b[1;32m      3\u001b[0m )\n\u001b[1;32m      4\u001b[0m \u001b[0mrot\u001b[0m\u001b[0;34m,\u001b[0m \u001b[0m_\u001b[0m \u001b[0;34m=\u001b[0m \u001b[0mcv2\u001b[0m\u001b[0;34m.\u001b[0m\u001b[0mRodrigues\u001b[0m\u001b[0;34m(\u001b[0m\u001b[0mrotation_vector\u001b[0m\u001b[0;34m)\u001b[0m\u001b[0;34m\u001b[0m\u001b[0;34m\u001b[0m\u001b[0m\n\u001b[1;32m      5\u001b[0m \u001b[0mprint\u001b[0m\u001b[0;34m(\u001b[0m\u001b[0;34mf\"{flag} works\"\u001b[0m\u001b[0;34m)\u001b[0m\u001b[0;34m\u001b[0m\u001b[0;34m\u001b[0m\u001b[0m\n",
      "\u001b[0;31merror\u001b[0m: OpenCV(4.5.2) /private/var/folders/24/8k48jl6d249_n_qfxwsl6xvm0000gn/T/pip-req-build-0kq15xu_/opencv/modules/calib3d/src/solvepnp.cpp:241: error: (-215:Assertion failed) npoints >= 4 && npoints == std::max(ipoints.checkVector(2, CV_32F), ipoints.checkVector(2, CV_64F)) in function 'solvePnPRansac'\n"
     ]
    }
   ],
   "source": [
    "_, rotation_vector, trans, _ = cv2.solvePnPRansac(\n",
    "    points_3d, points_2d, intrin, np.zeros((4, 1), dtype=np.float32)\n",
    ")\n",
    "rot, _ = cv2.Rodrigues(rotation_vector)\n",
    "print(f\"{flag} works\")\n",
    "check_rotation_matrix(points_2d, points_3d, intrin, rot, trans)\n"
   ]
  },
  {
   "cell_type": "code",
   "execution_count": 49,
   "metadata": {},
   "outputs": [
    {
     "ename": "error",
     "evalue": "OpenCV(4.5.2) /private/var/folders/24/8k48jl6d249_n_qfxwsl6xvm0000gn/T/pip-req-build-0kq15xu_/opencv/modules/calib3d/src/solvepnp.cpp:826: error: (-215:Assertion failed) ( (npoints >= 4) || (npoints == 3 && flags == SOLVEPNP_ITERATIVE && useExtrinsicGuess) || (npoints >= 3 && flags == SOLVEPNP_SQPNP) ) && npoints == std::max(ipoints.checkVector(2, CV_32F), ipoints.checkVector(2, CV_64F)) in function 'solvePnPGeneric'\n",
     "output_type": "error",
     "traceback": [
      "\u001b[0;31m---------------------------------------------------------------------------\u001b[0m",
      "\u001b[0;31merror\u001b[0m                                     Traceback (most recent call last)",
      "\u001b[0;32m/var/folders/py/vv_60gys365b7j1vlcxd9mvr0000gn/T/ipykernel_64900/1271715647.py\u001b[0m in \u001b[0;36m<module>\u001b[0;34m\u001b[0m\n\u001b[1;32m      1\u001b[0m _, rotation_vector, trans, _ = cv2.solvePnPGeneric(\n\u001b[0;32m----> 2\u001b[0;31m     \u001b[0mpoints_3d\u001b[0m\u001b[0;34m,\u001b[0m \u001b[0mpoints_2d\u001b[0m\u001b[0;34m,\u001b[0m \u001b[0mintrin\u001b[0m\u001b[0;34m,\u001b[0m \u001b[0mnp\u001b[0m\u001b[0;34m.\u001b[0m\u001b[0mzeros\u001b[0m\u001b[0;34m(\u001b[0m\u001b[0;34m(\u001b[0m\u001b[0;36m4\u001b[0m\u001b[0;34m,\u001b[0m \u001b[0;36m1\u001b[0m\u001b[0;34m)\u001b[0m\u001b[0;34m,\u001b[0m \u001b[0mdtype\u001b[0m\u001b[0;34m=\u001b[0m\u001b[0mnp\u001b[0m\u001b[0;34m.\u001b[0m\u001b[0mfloat32\u001b[0m\u001b[0;34m)\u001b[0m\u001b[0;34m,\u001b[0m \u001b[0mflags\u001b[0m\u001b[0;34m=\u001b[0m\u001b[0mcv2\u001b[0m\u001b[0;34m.\u001b[0m\u001b[0mSOLVEPNP_IPPE\u001b[0m\u001b[0;34m\u001b[0m\u001b[0;34m\u001b[0m\u001b[0m\n\u001b[0m\u001b[1;32m      3\u001b[0m )\n\u001b[1;32m      4\u001b[0m \u001b[0mrot\u001b[0m\u001b[0;34m,\u001b[0m \u001b[0m_\u001b[0m \u001b[0;34m=\u001b[0m \u001b[0mcv2\u001b[0m\u001b[0;34m.\u001b[0m\u001b[0mRodrigues\u001b[0m\u001b[0;34m(\u001b[0m\u001b[0mrotation_vector\u001b[0m\u001b[0;34m)\u001b[0m\u001b[0;34m\u001b[0m\u001b[0;34m\u001b[0m\u001b[0m\n\u001b[1;32m      5\u001b[0m \u001b[0mprint\u001b[0m\u001b[0;34m(\u001b[0m\u001b[0;34mf\"{flag} works\"\u001b[0m\u001b[0;34m)\u001b[0m\u001b[0;34m\u001b[0m\u001b[0;34m\u001b[0m\u001b[0m\n",
      "\u001b[0;31merror\u001b[0m: OpenCV(4.5.2) /private/var/folders/24/8k48jl6d249_n_qfxwsl6xvm0000gn/T/pip-req-build-0kq15xu_/opencv/modules/calib3d/src/solvepnp.cpp:826: error: (-215:Assertion failed) ( (npoints >= 4) || (npoints == 3 && flags == SOLVEPNP_ITERATIVE && useExtrinsicGuess) || (npoints >= 3 && flags == SOLVEPNP_SQPNP) ) && npoints == std::max(ipoints.checkVector(2, CV_32F), ipoints.checkVector(2, CV_64F)) in function 'solvePnPGeneric'\n"
     ]
    }
   ],
   "source": [
    "_, rotation_vector, trans, _ = cv2.solvePnPGeneric(\n",
    "    points_3d, points_2d, intrin, np.zeros((4, 1), dtype=np.float32), flags=cv2.SOLVEPNP_IPPE\n",
    ")\n",
    "rot, _ = cv2.Rodrigues(rotation_vector)\n",
    "print(f\"{flag} works\")\n",
    "check_rotation_matrix(points_2d, points_3d, intrin, rot, trans)\n"
   ]
  },
  {
   "cell_type": "markdown",
   "metadata": {},
   "source": [
    "- Numpy array slices won't work as input because solvePnP requires contiguous arrays (enforced by the assertion using cv::Mat::checkVector() around line 55 of modules/calib3d/src/solvepnp.cpp version 2.4.9)\n",
    "- The P3P algorithm requires image points to be in an array of shape (N,1,2) due to its calling of cv::undistortPoints (around line 75 of modules/calib3d/src/solvepnp.cpp version 2.4.9) which requires 2-channel information.\n",
    "- Thus, given some data D = np.array(...) where D.shape = (N,M), in order to use a subset of it as, e.g., imagePoints, one must effectively copy it into a new array: imagePoints = np.ascontiguousarray(D[:,:2]).reshape((N,1,2))\n"
   ]
  },
  {
   "cell_type": "code",
   "execution_count": 215,
   "metadata": {},
   "outputs": [
    {
     "data": {
      "text/plain": [
       "array([[180., 453.],\n",
       "       [980., 326.],\n",
       "       [547., 411.]])"
      ]
     },
     "execution_count": 215,
     "metadata": {},
     "output_type": "execute_result"
    }
   ],
   "source": [
    "points_2d\n"
   ]
  },
  {
   "cell_type": "markdown",
   "metadata": {},
   "source": [
    "# solvep3p"
   ]
  },
  {
   "cell_type": "code",
   "execution_count": 22,
   "metadata": {},
   "outputs": [],
   "source": [
    "points_3d_1 = np.array([[59.58, 25.15, 0.0], [61.31, 26.79, 0.0], [58.15, 23.64, 0.0]])\n",
    "points_2d_1 = np.array([[447.0, 356.0], [476.0, 582.0], [639.0, 411.0]])\n",
    "\n",
    "points_3d_2 = np.array([[59.58, 25.15, 0.0], [61.31, 26.79, 0.0], [57.79, 27.27, 0.0]])\n",
    "points_2d_2 = np.array([[447.0, 356.0], [476.0, 582.0], [639.0, 411.0]])\n",
    "\n",
    "points_3d_3 = np.array([[109.43, 24.5, 0.0], [109.8, 16.94, 0.0], [109.35, 25.82, 0.0]])\n",
    "points_2d_3 = np.array([[804.0, 424.0], [481.0, 330.0], [949.0, 337.0]])\n",
    "\n",
    "points_3d_4 = np.array([[109.43, 24.5, 0.0], [109.72, 19.88, 0.0], [109.35, 25.82, 0.0]])\n",
    "points_2d_4 = np.array([[804.0, 424.0], [481.0, 330.0], [949.0, 337.0]])\n",
    "\n",
    "tst_list = [(points_3d_1, points_2d_1),(points_3d_2, points_2d_2),(points_3d_3, points_2d_3),(points_3d_4, points_2d_4),]"
   ]
  },
  {
   "cell_type": "code",
   "execution_count": 40,
   "metadata": {},
   "outputs": [],
   "source": [
    "def p3p_posit_simple(points_2d, points_3d, cameraMatrix, flag, rot, trans):\n",
    "    distCoeffs = np.zeros((4, 1), dtype=np.float32)\n",
    "\n",
    "    rez_list = cv2.solveP3P(points_3d, points_2d, cameraMatrix, distCoeffs, flag)\n",
    "    if rez_list[0] != 0:\n",
    "        rotation_vector, trans = rez_list[1][0], rez_list[2][0]\n",
    "        rot, _ = cv2.Rodrigues(rotation_vector)\n",
    "        return rot, trans\n",
    "    else:\n",
    "        print('wrong')\n",
    "    # return rot, trans\n"
   ]
  },
  {
   "cell_type": "code",
   "execution_count": 50,
   "metadata": {},
   "outputs": [
    {
     "name": "stdout",
     "output_type": "stream",
     "text": [
      "wrong\n"
     ]
    },
    {
     "ename": "TypeError",
     "evalue": "cannot unpack non-iterable NoneType object",
     "output_type": "error",
     "traceback": [
      "\u001b[0;31m---------------------------------------------------------------------------\u001b[0m",
      "\u001b[0;31mTypeError\u001b[0m                                 Traceback (most recent call last)",
      "\u001b[0;32m/var/folders/py/vv_60gys365b7j1vlcxd9mvr0000gn/T/ipykernel_64900/1714859491.py\u001b[0m in \u001b[0;36m<module>\u001b[0;34m\u001b[0m\n\u001b[1;32m      6\u001b[0m \u001b[0;34m\u001b[0m\u001b[0m\n\u001b[1;32m      7\u001b[0m \u001b[0;32mfor\u001b[0m \u001b[0mpoints_3d\u001b[0m\u001b[0;34m,\u001b[0m\u001b[0mpoints_2d\u001b[0m \u001b[0;32min\u001b[0m \u001b[0mtst_list\u001b[0m\u001b[0;34m:\u001b[0m\u001b[0;34m\u001b[0m\u001b[0;34m\u001b[0m\u001b[0m\n\u001b[0;32m----> 8\u001b[0;31m     \u001b[0mrot\u001b[0m\u001b[0;34m,\u001b[0m \u001b[0mtrans\u001b[0m \u001b[0;34m=\u001b[0m \u001b[0mp3p_posit_simple\u001b[0m\u001b[0;34m(\u001b[0m\u001b[0mpoints_2d\u001b[0m\u001b[0;34m,\u001b[0m \u001b[0mpoints_3d\u001b[0m\u001b[0;34m,\u001b[0m\u001b[0mcameraMatrix\u001b[0m\u001b[0;34m,\u001b[0m \u001b[0mcv2\u001b[0m\u001b[0;34m.\u001b[0m\u001b[0mSOLVEPNP_P3P\u001b[0m\u001b[0;34m,\u001b[0m \u001b[0mrot\u001b[0m\u001b[0;34m,\u001b[0m \u001b[0mtrans\u001b[0m\u001b[0;34m)\u001b[0m\u001b[0;34m\u001b[0m\u001b[0;34m\u001b[0m\u001b[0m\n\u001b[0m\u001b[1;32m      9\u001b[0m     \u001b[0mcheck_rotation_matrix\u001b[0m\u001b[0;34m(\u001b[0m\u001b[0mpoints_2d\u001b[0m\u001b[0;34m,\u001b[0m \u001b[0mpoints_3d\u001b[0m\u001b[0;34m,\u001b[0m \u001b[0mintrin\u001b[0m\u001b[0;34m,\u001b[0m \u001b[0mrot\u001b[0m\u001b[0;34m,\u001b[0m \u001b[0mtrans\u001b[0m\u001b[0;34m)\u001b[0m\u001b[0;34m\u001b[0m\u001b[0;34m\u001b[0m\u001b[0m\n\u001b[1;32m     10\u001b[0m \u001b[0;34m\u001b[0m\u001b[0m\n",
      "\u001b[0;31mTypeError\u001b[0m: cannot unpack non-iterable NoneType object"
     ]
    }
   ],
   "source": [
    "# rot = np.random.randn(3, 3)\n",
    "# trans = np.random.randn(3, 1)\n",
    "cameraMatrix = np.array(\n",
    "        [[1920, 0, 640], [0, 1920, 360], [0, 0, 1]], dtype=np.float32\n",
    "    )\n",
    "\n",
    "for points_3d,points_2d in tst_list:\n",
    "    rot, trans = p3p_posit_simple(points_2d, points_3d,cameraMatrix, cv2.SOLVEPNP_P3P, rot, trans)\n",
    "    check_rotation_matrix(points_2d, points_3d, intrin, rot, trans)\n",
    "\n",
    "    "
   ]
  },
  {
   "cell_type": "code",
   "execution_count": 11,
   "metadata": {},
   "outputs": [
    {
     "name": "stdout",
     "output_type": "stream",
     "text": [
      "1920.0 2 (0, [], [])\n",
      "960.0 2 (0, [], [])\n",
      "480.0 2 (0, [], [])\n",
      "240.0 2 (0, [], [])\n",
      "3840.0 2 (0, [], [])\n",
      "7680.0 2 (0, [], [])\n",
      "15360.0 2 (0, [], [])\n",
      "30720.0 2 (0, [], [])\n",
      "61440.0 2 (0, [], [])\n",
      "122880.0 2 (0, [], [])\n",
      "245760.0 2 (1, [array([[-0.96869831],\n",
      "       [ 1.56916132],\n",
      "       [-1.62802228]])], [array([[55.54598288],\n",
      "       [95.78420761],\n",
      "       [23.27679448]])])\n",
      "245760.0 2\n",
      "[[-5.01013962e-01 -2.92383575e-02  8.64945159e-01  5.55459829e+01]\n",
      " [-8.63282827e-01 -5.36239775e-02 -5.01863756e-01  9.57842076e+01]\n",
      " [ 6.10554717e-02 -9.98133051e-01  1.62538952e-03  2.32767945e+01]]\n",
      "Error of rotation: 6.371454197527256\n"
     ]
    },
    {
     "data": {
      "image/png": "[encoded data removed]",
      "text/plain": [
       "<Figure size 432x288 with 1 Axes>"
      ]
     },
     "metadata": {
      "needs_background": "light"
     },
     "output_type": "display_data"
    }
   ],
   "source": [
    "# Сложная версия с перебором зума и методов\n",
    "def p3p_posit_iterated(points_2d, points_3d):\n",
    "    distCoeffs = np.zeros((4, 1), dtype=np.float32)\n",
    "    zoom_list = [\n",
    "        np.float32(x)\n",
    "        for x in [\n",
    "            1920,\n",
    "            1920 / 2,\n",
    "            1920 / 4,\n",
    "            1920 / 8,\n",
    "            1920 * 2,\n",
    "            1920 * 4,\n",
    "            1920 * 8,\n",
    "            1920 * 16,\n",
    "            1920 * 32,\n",
    "            1920 * 64,\n",
    "            1920 * 128,\n",
    "            1920 * 256,\n",
    "        ]\n",
    "    ]\n",
    "    for flag in [cv2.SOLVEPNP_P3P, cv2.SOLVEPNP_AP3P]:\n",
    "        for zoom in zoom_list:\n",
    "            # for zoom in range(100,10000,100):\n",
    "            cameraMatrix = np.array(\n",
    "                [\n",
    "                    [zoom, 0.00e00, 6.40e02],\n",
    "                    [0.00e00, zoom, 3.60e02],\n",
    "                    [0.00e00, 0.00e00, 1.00e00],\n",
    "                ]\n",
    "            )\n",
    "            rez_list = cv2.solveP3P(\n",
    "                points_3d, points_2d, cameraMatrix, distCoeffs, flag\n",
    "            )\n",
    "            print(zoom, flag, rez_list)\n",
    "            if rez_list[0] != 0:\n",
    "                rotation_vector, trans = rez_list[1][0], rez_list[2][0]\n",
    "                rot, _ = cv2.Rodrigues(rotation_vector)\n",
    "                print(zoom, flag)\n",
    "                return rot, trans, zoom\n",
    "\n",
    "    raise ValueError(\"rot/trans matrix empty\")\n",
    "\n",
    "\n",
    "rot, trans, zoom = p3p_posit_iterated(points_2d, points_3d)\n",
    "intrin = np.array(\n",
    "    [\n",
    "        [zoom, 0.00e00, 6.40e02],\n",
    "        [0.00e00, zoom, 3.60e02],\n",
    "        [0.00e00, 0.00e00, 1.00e00],\n",
    "    ]\n",
    ")\n",
    "check_rotation_matrix(points_2d, points_3d, intrin, rot, trans)\n"
   ]
  },
  {
   "cell_type": "markdown",
   "metadata": {},
   "source": [
    "# solvePnP"
   ]
  },
  {
   "cell_type": "code",
   "execution_count": 44,
   "metadata": {},
   "outputs": [
    {
     "name": "stdout",
     "output_type": "stream",
     "text": [
      "0 1920.0 doesnt work :(\n",
      "0 960.0 doesnt work :(\n",
      "0 480.0 doesnt work :(\n",
      "0 240.0 doesnt work :(\n",
      "0 3840.0 doesnt work :(\n",
      "0 7680.0 doesnt work :(\n",
      "0 15360.0 doesnt work :(\n",
      "2 1920.0 doesnt work :(\n",
      "2 960.0 doesnt work :(\n",
      "2 480.0 doesnt work :(\n",
      "2 240.0 doesnt work :(\n",
      "2 3840.0 doesnt work :(\n",
      "2 7680.0 doesnt work :(\n",
      "2 15360.0 doesnt work :(\n",
      "5 1920.0 doesnt work :(\n",
      "5 960.0 doesnt work :(\n",
      "5 480.0 doesnt work :(\n",
      "5 240.0 doesnt work :(\n",
      "5 3840.0 doesnt work :(\n",
      "5 7680.0 doesnt work :(\n",
      "5 15360.0 doesnt work :(\n",
      "1 1920.0 doesnt work :(\n",
      "1 960.0 doesnt work :(\n",
      "1 480.0 doesnt work :(\n",
      "1 240.0 doesnt work :(\n",
      "1 3840.0 doesnt work :(\n",
      "1 7680.0 doesnt work :(\n",
      "1 15360.0 doesnt work :(\n",
      "3 1920.0 doesnt work :(\n",
      "3 960.0 doesnt work :(\n",
      "3 480.0 doesnt work :(\n",
      "3 240.0 doesnt work :(\n",
      "3 3840.0 doesnt work :(\n",
      "3 7680.0 doesnt work :(\n",
      "3 15360.0 doesnt work :(\n",
      "4 1920.0 doesnt work :(\n",
      "4 960.0 doesnt work :(\n",
      "4 480.0 doesnt work :(\n",
      "4 240.0 doesnt work :(\n",
      "4 3840.0 doesnt work :(\n",
      "4 7680.0 doesnt work :(\n",
      "4 15360.0 doesnt work :(\n",
      "6 1920.0 doesnt work :(\n",
      "6 960.0 doesnt work :(\n",
      "6 480.0 doesnt work :(\n",
      "6 240.0 doesnt work :(\n",
      "6 3840.0 doesnt work :(\n",
      "6 7680.0 doesnt work :(\n",
      "6 15360.0 doesnt work :(\n",
      "7 1920.0 doesnt work :(\n",
      "7 960.0 doesnt work :(\n",
      "7 480.0 doesnt work :(\n",
      "7 240.0 doesnt work :(\n",
      "7 3840.0 doesnt work :(\n",
      "7 7680.0 doesnt work :(\n",
      "7 15360.0 doesnt work :(\n",
      "8 1920.0 doesnt work :(\n",
      "8 960.0 doesnt work :(\n",
      "8 480.0 doesnt work :(\n",
      "8 240.0 doesnt work :(\n",
      "8 3840.0 doesnt work :(\n",
      "8 7680.0 doesnt work :(\n",
      "8 15360.0 doesnt work :(\n"
     ]
    },
    {
     "ename": "ValueError",
     "evalue": "rot/trans matrix empty",
     "output_type": "error",
     "traceback": [
      "\u001b[0;31m---------------------------------------------------------------------------\u001b[0m",
      "\u001b[0;31mValueError\u001b[0m                                Traceback (most recent call last)",
      "\u001b[0;32m/var/folders/py/vv_60gys365b7j1vlcxd9mvr0000gn/T/ipykernel_64900/2821145969.py\u001b[0m in \u001b[0;36m<module>\u001b[0;34m\u001b[0m\n\u001b[1;32m     41\u001b[0m \u001b[0;34m\u001b[0m\u001b[0m\n\u001b[1;32m     42\u001b[0m \u001b[0;34m\u001b[0m\u001b[0m\n\u001b[0;32m---> 43\u001b[0;31m \u001b[0mrot\u001b[0m\u001b[0;34m,\u001b[0m \u001b[0mtrans\u001b[0m \u001b[0;34m=\u001b[0m \u001b[0mpnp_posit\u001b[0m\u001b[0;34m(\u001b[0m\u001b[0mpoints_2d\u001b[0m\u001b[0;34m,\u001b[0m \u001b[0mpoints_3d\u001b[0m\u001b[0;34m)\u001b[0m\u001b[0;34m\u001b[0m\u001b[0;34m\u001b[0m\u001b[0m\n\u001b[0m\u001b[1;32m     44\u001b[0m \u001b[0mcheck_rotation_matrix\u001b[0m\u001b[0;34m(\u001b[0m\u001b[0mpoints_2d\u001b[0m\u001b[0;34m,\u001b[0m \u001b[0mpoints_3d\u001b[0m\u001b[0;34m,\u001b[0m \u001b[0mintrin\u001b[0m\u001b[0;34m,\u001b[0m \u001b[0mrot\u001b[0m\u001b[0;34m,\u001b[0m \u001b[0mtrans\u001b[0m\u001b[0;34m)\u001b[0m\u001b[0;34m\u001b[0m\u001b[0;34m\u001b[0m\u001b[0m\n",
      "\u001b[0;32m/var/folders/py/vv_60gys365b7j1vlcxd9mvr0000gn/T/ipykernel_64900/2821145969.py\u001b[0m in \u001b[0;36mpnp_posit\u001b[0;34m(points_2d, points_3d)\u001b[0m\n\u001b[1;32m     38\u001b[0m                 \u001b[0mprint\u001b[0m\u001b[0;34m(\u001b[0m\u001b[0mflag\u001b[0m\u001b[0;34m,\u001b[0m \u001b[0mzoom\u001b[0m\u001b[0;34m,\u001b[0m \u001b[0;34m\"doesnt work :(\"\u001b[0m\u001b[0;34m)\u001b[0m\u001b[0;34m\u001b[0m\u001b[0;34m\u001b[0m\u001b[0m\n\u001b[1;32m     39\u001b[0m \u001b[0;34m\u001b[0m\u001b[0m\n\u001b[0;32m---> 40\u001b[0;31m     \u001b[0;32mraise\u001b[0m \u001b[0mValueError\u001b[0m\u001b[0;34m(\u001b[0m\u001b[0;34m\"rot/trans matrix empty\"\u001b[0m\u001b[0;34m)\u001b[0m\u001b[0;34m\u001b[0m\u001b[0;34m\u001b[0m\u001b[0m\n\u001b[0m\u001b[1;32m     41\u001b[0m \u001b[0;34m\u001b[0m\u001b[0m\n\u001b[1;32m     42\u001b[0m \u001b[0;34m\u001b[0m\u001b[0m\n",
      "\u001b[0;31mValueError\u001b[0m: rot/trans matrix empty"
     ]
    }
   ],
   "source": [
    "def pnp_posit(points_2d, points_3d):\n",
    "    distCoeffs = np.zeros((4, 1), dtype=np.float32)\n",
    "    zoom_list = [\n",
    "        np.float32(x)\n",
    "        for x in [1920, 1920 / 2, 1920 / 4, 1920 / 8, 1920 * 2, 1920 * 4, 1920 * 8]\n",
    "    ]\n",
    "    flags = [\n",
    "        cv2.SOLVEPNP_ITERATIVE,  # 0\n",
    "        cv2.SOLVEPNP_P3P,  # 2\n",
    "        cv2.SOLVEPNP_AP3P,  # 5\n",
    "        cv2.SOLVEPNP_EPNP,  # 1\n",
    "        cv2.SOLVEPNP_DLS,  # 3\n",
    "        cv2.SOLVEPNP_UPNP,  # 4\n",
    "        cv2.SOLVEPNP_IPPE,  # 6\n",
    "        cv2.SOLVEPNP_IPPE_SQUARE,  # 7\n",
    "        cv2.SOLVEPNP_SQPNP,  # 8\n",
    "    ]\n",
    "    for flag in flags:\n",
    "        for zoom in zoom_list:\n",
    "            cameraMatrix = np.array(\n",
    "                [\n",
    "                    [zoom, 0.00e00, 6.40e02],\n",
    "                    [0.00e00, zoom, 3.60e02],\n",
    "                    [0.00e00, 0.00e00, 1.00e00],\n",
    "                ]\n",
    "            )\n",
    "            try:\n",
    "                rez_list = cv2.solvePnP(\n",
    "                    points_3d, points_2d, cameraMatrix, distCoeffs, flag\n",
    "                )\n",
    "                print(zoom, flag, rez_list)\n",
    "                if rez_list[0] != 0:\n",
    "                    rotation_vector, trans = rez_list[1][0], rez_list[2][0]\n",
    "                    rot, _ = cv2.Rodrigues(rotation_vector)\n",
    "                    print(zoom, flag)\n",
    "                    return rot, trans\n",
    "            except:\n",
    "                print(flag, zoom, \"doesnt work :(\")\n",
    "\n",
    "    raise ValueError(\"rot/trans matrix empty\")\n",
    "\n",
    "\n",
    "rot, trans = pnp_posit(points_2d, points_3d)\n",
    "check_rotation_matrix(points_2d, points_3d, intrin, rot, trans)\n"
   ]
  },
  {
   "cell_type": "markdown",
   "metadata": {},
   "source": [
    "# Кластер"
   ]
  },
  {
   "cell_type": "code",
   "execution_count": 216,
   "metadata": {},
   "outputs": [
    {
     "data": {
      "text/plain": [
       "array([1, 0, 0, 0, 0, 0], dtype=int32)"
      ]
     },
     "execution_count": 216,
     "metadata": {},
     "output_type": "execute_result"
    }
   ],
   "source": [
    "from sklearn.cluster import KMeans\n",
    "\n",
    "points_2d = np.array(\n",
    "    [\n",
    "        [180.0, 453.0],\n",
    "        [980.0, 326.0],\n",
    "        [505.0, 354.0],\n",
    "        [649.0, 238.0],\n",
    "        [692.0, 351.0],\n",
    "        [547.0, 411.0],\n",
    "    ]\n",
    ")\n",
    "kmeans = KMeans(n_clusters=2, random_state=0).fit(points_2d)\n",
    "kmeans.labels_\n"
   ]
  },
  {
   "cell_type": "code",
   "execution_count": 225,
   "metadata": {},
   "outputs": [
    {
     "data": {
      "text/plain": [
       "<matplotlib.collections.PathCollection at 0x7f8951741bd0>"
      ]
     },
     "execution_count": 225,
     "metadata": {},
     "output_type": "execute_result"
    },
    {
     "data": {
      "image/png": "[encoded data removed]",
      "text/plain": [
       "<Figure size 432x288 with 1 Axes>"
      ]
     },
     "metadata": {
      "needs_background": "light"
     },
     "output_type": "display_data"
    }
   ],
   "source": [
    "import pandas as pd\n",
    "\n",
    "ENTRY = \"input\"  # local run\n",
    "BASE_DIR = f\"{ENTRY}/nfl-health-and-safety-helmet-assignment\"\n",
    "helmets = pd.read_csv(f\"{BASE_DIR}/train_baseline_helmets.csv\")\n",
    "helm = helmets.loc[helmets[\"video_frame\"] == \"58102_002798_Sideline_302\"].sort_values(\n",
    "    [\"left\", \"top\"]\n",
    ")\n",
    "kmeans = KMeans(n_clusters=3, random_state=0).fit(helm[[\"left\", \"top\"]].values)\n",
    "plt.scatter(\n",
    "    helm[[\"left\", \"top\"]].values[:, 0],\n",
    "    helm[[\"left\", \"top\"]].values[:, 1],\n",
    "    c=kmeans.labels_,\n",
    ")\n"
   ]
  },
  {
   "cell_type": "code",
   "execution_count": 229,
   "metadata": {},
   "outputs": [
    {
     "name": "stdout",
     "output_type": "stream",
     "text": [
      "[2 2 2 2 1 1 0 1 0 1 0 1 1 0 0 1 1 1 1 1 1 1 0 1 1 1 1 0 1 0 1 1 1 0 1 1 1\n",
      " 0 0]\n"
     ]
    },
    {
     "data": {
      "text/plain": [
       "array([[678.36363636, 650.90909091],\n",
       "       [629.125     , 320.20833333],\n",
       "       [ 43.25      , 564.25      ]])"
      ]
     },
     "execution_count": 229,
     "metadata": {},
     "output_type": "execute_result"
    }
   ],
   "source": [
    "print(kmeans.labels_)\n",
    "kmeans.cluster_centers_\n"
   ]
  },
  {
   "cell_type": "code",
   "execution_count": null,
   "metadata": {},
   "outputs": [],
   "source": []
  }
 ],
 "metadata": {
  "interpreter": {
   "hash": "1ae2aa7bd2404e2513ec34f31cc38ee7dadfd8e8176187c980450b7b0a0a13fb"
  },
  "kernelspec": {
   "display_name": "Python 3.7.11 64-bit ('Py37': conda)",
   "name": "python3"
  },
  "language_info": {
   "codemirror_mode": {
    "name": "ipython",
    "version": 3
   },
   "file_extension": ".py",
   "mimetype": "text/x-python",
   "name": "python",
   "nbconvert_exporter": "python",
   "pygments_lexer": "ipython3",
   "version": "3.7.11"
  },
  "orig_nbformat": 4
 },
 "nbformat": 4,
 "nbformat_minor": 2
}
